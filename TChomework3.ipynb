{
  "nbformat": 4,
  "nbformat_minor": 0,
  "metadata": {
    "colab": {
      "provenance": [],
      "authorship_tag": "ABX9TyNiX/vfiC52/elIy4Kscyv9",
      "include_colab_link": true
    },
    "kernelspec": {
      "name": "python3",
      "display_name": "Python 3"
    },
    "language_info": {
      "name": "python"
    }
  },
  "cells": [
    {
      "cell_type": "markdown",
      "metadata": {
        "id": "view-in-github",
        "colab_type": "text"
      },
      "source": [
        "<a href=\"https://colab.research.google.com/github/TeeCook8/Taira/blob/main/TChomework3.ipynb\" target=\"_parent\"><img src=\"https://colab.research.google.com/assets/colab-badge.svg\" alt=\"Open In Colab\"/></a>"
      ]
    },
    {
      "cell_type": "code",
      "execution_count": null,
      "metadata": {
        "id": "tEPznDc9M5XY"
      },
      "outputs": [],
      "source": [
        "#import necessary libraries\n",
        "\n",
        "import numpy as np:\n",
        "#to handle numerical operations\n",
        "\n",
        "from sklearn.datasets import load_iris\n",
        "#load the iris dataset\n",
        "\n",
        "from sklearn.neighbors import KNeighborsClassifier\n",
        "#to create a knn classifer\n",
        "\n",
        "from sklearn.model_selection import cross_val_score\n",
        "#perform cross validation\n",
        "\n",
        "iris= load_iris dataset\n",
        "#load the Iris dataset\n",
        "\n",
        "X= iris.data\n",
        "y= iris.target\n",
        "\n",
        "#Define the range of k value\n",
        "k_range=range (1,31)\n",
        "\n",
        "#initalize varaible to store the best k\n",
        "best_k=None\n",
        "best_accuracy =0\n",
        "\n",
        "#Loop through the range of k values and perform cross- validation\n",
        "for k in k_range:\n",
        "  knn=KNeighborsClassifier(n_neighbors=k)\n",
        "  score= cross_val_score (knn, X,y, cv=10)\n",
        "  accuracy = np.means(scores)\n",
        "\n",
        "  #check if this k resulted in a better accuracy\n",
        "  if accuracy >best_accuracy:\n",
        "    best_accuracy = accuracy\n",
        "    best_k=k\n",
        "\n",
        "    #print the best k and its corresponding accuracy\n",
        "    print(\"Best k:\", best_k)\n",
        "    print(\"Best Accuracy:\", best_accuracy)\n",
        "\n",
        "#updating the cross validated accuracy\n",
        "cross_val_accuracy.append(cross_val_score(knn,X,y, cv=5, scoring='accuracy').mean())\n",
        "\n",
        "#plotting the result of the cross validation\n",
        "plt.figure(figsize=(10, 6))\n",
        "plt.plot (range(1, 32), cross_val_accuracy)\n",
        "plt.title('Value of K for KNN vs. Cross-Validated Accuracy')\n",
        "plt.xlabel('Value of K fo KNN')\n",
        "plt.ylabel('Cross-Validated Accuracy')\n",
        "plt.xticks(k_range)\n",
        "plt.show( )"
      ]
    }
  ]
}