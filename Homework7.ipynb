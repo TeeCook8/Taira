{
  "nbformat": 4,
  "nbformat_minor": 0,
  "metadata": {
    "colab": {
      "provenance": [],
      "authorship_tag": "ABX9TyMOlObCMEJtqafptrz529AI",
      "include_colab_link": true
    },
    "kernelspec": {
      "name": "python3",
      "display_name": "Python 3"
    },
    "language_info": {
      "name": "python"
    }
  },
  "cells": [
    {
      "cell_type": "markdown",
      "metadata": {
        "id": "view-in-github",
        "colab_type": "text"
      },
      "source": [
        "<a href=\"https://colab.research.google.com/github/TeeCook8/Taira/blob/main/Homework7.ipynb\" target=\"_parent\"><img src=\"https://colab.research.google.com/assets/colab-badge.svg\" alt=\"Open In Colab\"/></a>"
      ]
    },
    {
      "cell_type": "code",
      "execution_count": null,
      "metadata": {
        "id": "NwdPHXOV3EJC"
      },
      "outputs": [],
      "source": [
        "import mnist_reader\n",
        "\n",
        "x_train, y_train=\n",
        "mnist_reader.load_mnist('data/fashion', kind='t10k')\n",
        "x_train/y_train and Xtest/y_test datasets:\n",
        "shape(image_height, image_width, num_channels\n",
        "    )\n",
        "\n",
        "model=Sequential ([\n",
        "    Conv2D(64, kernel_size= (3,3), activation='relu',padding='same',\n",
        "           input_shape=(IMAGE_HEIGHT, IMAGE_WIDTH, NUM_CHANNELS)),\n",
        "    BatchNormalization(),\n",
        "    (Conv2D(64,kernel_size= (3,3), activation='relu'),\n",
        "     BatchNormalization(),\n",
        "     MaxPooling2D(pool_size=(2,2)),\n",
        "\n",
        "     Conv2D(128, kernel_size= (3,3), activation='relu',padding='same'),\n",
        "            BatchNormalization(),\n",
        "            Conv2D(128, kernel_size= (3,3), activation='relu',padding='same',\n",
        "                       )\n",
        "            BatchNormalization(),\n",
        "            MaxPooling2D(pool_size=(2,2)),\n",
        "\n",
        "            Conv2D(256, kernel_size= (3,3), activation='relu',padding='same'),\n",
        "            BatchNormalization(),\n",
        "            Conv2D(256, kernel_size= (3,3), activation='relu',padding='same',\n",
        "                       )\n",
        "            BatchNormalization(),\n",
        "            MaxPooling2D(pool_size=(2,2)),\n",
        "\n",
        "     flatten(),\n",
        "\n",
        "     Dense(1024, activation='relu'),\n",
        "     Dense(512, activation='relu'),\n",
        "     Dense(NUM_CLASSES, activation='softmax')\n",
        "])\n",
        "\n",
        "1. Comparing a model performance on FAshion-MNIST and MNIST :FashionMNIST is slightly more challenging, so the model may have lower accuracy, and training take longer due to dataset complexity.\n",
        "2. Adding a Dense layer with 4096 neurons:IT can improve accuracy but increase training time. Overfitting risk exist, so regularization technique should be considered."
      ]
    }
  ]
}