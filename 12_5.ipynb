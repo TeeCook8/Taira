{
  "nbformat": 4,
  "nbformat_minor": 0,
  "metadata": {
    "colab": {
      "provenance": [],
      "authorship_tag": "ABX9TyMdqrsVu0KfmD6rCPLlc4kD",
      "include_colab_link": true
    },
    "kernelspec": {
      "name": "python3",
      "display_name": "Python 3"
    },
    "language_info": {
      "name": "python"
    }
  },
  "cells": [
    {
      "cell_type": "markdown",
      "metadata": {
        "id": "view-in-github",
        "colab_type": "text"
      },
      "source": [
        "<a href=\"https://colab.research.google.com/github/TeeCook8/Taira/blob/main/12_5.ipynb\" target=\"_parent\"><img src=\"https://colab.research.google.com/assets/colab-badge.svg\" alt=\"Open In Colab\"/></a>"
      ]
    },
    {
      "cell_type": "code",
      "execution_count": null,
      "metadata": {
        "id": "rbgp-4pG-1v_"
      },
      "outputs": [],
      "source": [
        "import operator\n",
        "\n",
        "filename=\"data.txt\"\n",
        "\n",
        "f=open (filename, \"r\")\n",
        "\n",
        "a=f.read().strip()\n",
        "\n",
        "data=a.split (\" \")\n",
        "\n",
        "special_char_remove_list=[\",\",\",\",\"$\", \"?\", \"\\n\"]\n",
        "\n",
        "for i in range(len(data)):\n",
        "  for j in special_char_remove_list:\n",
        "    data[i]= data[i].replace(j,\"\")\n",
        "    unique_list=list(set(data))\n",
        "\n",
        "\n",
        "    #will show unique list\n",
        "\n",
        "  my_dict={}\n",
        "\n",
        "  for i in unique_list:\n",
        "    my_dict[i]=0\n",
        "    for key, val in my_dict.items():\n",
        "      for i in data:\n",
        "        if key ==i:\n",
        "          my_dict[i]+=1\n",
        "          sorted_dict = sorted(my_dict.items(), key=operator.itemgetter(1), reverse=True)\n",
        "\n",
        "          out_dict={}\n",
        "          for i in range (len (sorted_dict)):\n",
        "\n",
        "            out_dict[sorted_dict[i][0]] = sorted_dict[i][1]\n",
        "\n",
        "            print(out_dict)\n"
      ]
    }
  ]
}