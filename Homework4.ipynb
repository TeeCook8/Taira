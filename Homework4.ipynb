{
  "nbformat": 4,
  "nbformat_minor": 0,
  "metadata": {
    "colab": {
      "provenance": [],
      "authorship_tag": "ABX9TyNMurb9IQqBzwlHwCRZR07v",
      "include_colab_link": true
    },
    "kernelspec": {
      "name": "python3",
      "display_name": "Python 3"
    },
    "language_info": {
      "name": "python"
    }
  },
  "cells": [
    {
      "cell_type": "markdown",
      "metadata": {
        "id": "view-in-github",
        "colab_type": "text"
      },
      "source": [
        "<a href=\"https://colab.research.google.com/github/TeeCook8/Taira/blob/main/Homework4.ipynb\" target=\"_parent\"><img src=\"https://colab.research.google.com/assets/colab-badge.svg\" alt=\"Open In Colab\"/></a>"
      ]
    },
    {
      "cell_type": "code",
      "execution_count": null,
      "metadata": {
        "id": "QRq5NqjIJz9X"
      },
      "outputs": [],
      "source": [
        "import numpy as np\n",
        "import pandas as pd\n",
        "from sklearn.datasets import load_breast_cancer\n",
        "from sklearn.model_selection import train_test_split, cross_val_score, kFold\n",
        "from sklearn.naive_bayes import GaussianNB\n",
        "from sklearn.neighbors import KNeighborsClassifier\n",
        "from sklearn.linear_model import LogisticRegression\n",
        "from sklearn.svm import SVC\n",
        "from sklearn.metrics import confusion_matrix, classification_report\n",
        "import matplotlib.pyplot as plt\n",
        "\n",
        "#Load the Breast Cancer dataset\n",
        "data= load_breast_cancer()\n",
        "X= data.data\n",
        "Y= data.target\n",
        "\n",
        "#Split the data for training and testing\n",
        "X_train, X_test, y_train, y_test = train_test_split(X, y, test_size=0.2, random_state=42)\n",
        "\n",
        "#Create a dictionary of estimators\n",
        "estimators = {\n",
        "    'GaussianNB':GaussianNB(),\n",
        "    'KNeighborsClassifier': KneighborsClassifier(),\n",
        "    'LogisticRegression':LogisticRegression(solver='lbfgs', multi_class='ovr', max_iter=10000),\n",
        "    'SVC' : SVC(gamma='scale')\n",
        "}\n",
        "\n",
        "result={}\n",
        "\n",
        "#train and evaluate the model\n",
        "for name, estimator in estimators.items():\n",
        "  estimator.fit(X_train, y_train)\n",
        "  y_pred = estimator.predict(X_test)\n",
        "\n",
        "  #evaluate the model\n",
        "  accuracy = estimator.score(X-test, y_test)\n",
        "  cm= confusion_matrix(y_test, y_pred)\n",
        "  report = classification_report (y_test,y_pred)\n",
        "\n",
        "  result[name] = {\n",
        "      'Accuracy': accuracy,\n",
        "      'Confusion Matrix': cm,\n",
        "      'Classification Report': report\n",
        "  }\n",
        "\n",
        "  #Display results for each estimator\n",
        "  for name, result in results.item():\n",
        "  print(f\"Model: {name}\")\n",
        "  print(f'Accuracy': {result['Accuracy']: .2f})\n",
        "        print(\"Confusion Matrix:\")\n",
        "        print(result['Confusion Matrix'])\n",
        "        print (\"Classification Report:\")\n",
        "        print (result['Classfication Report'])\n",
        "        print (\"\\n\")\n",
        "\n",
        "  #K-Fold Cross- Validation\n",
        "  kfold = KFold(n_splits=10, random_state=11, shuffle=True)\n",
        "  cv_scores ={}\n",
        "\n",
        "  for name, estimator in estimators.items():\n",
        "    scores= cross_val_score (estimator, X, y, cv=kfold)\n",
        "    cv_scores[name]= scores\n",
        "\n",
        "  for name, scores in cv_scores.items():\n",
        "    print (f\"Models: {name}\")\n",
        "    print (f\"Cross-Validation Scores:{' ,'.join([f'{s:.2f}' for s in scores])}\")\n",
        "    print (f\"Mean Accuracy: {scores.mean():.2f}\")\n",
        "    print (\"\\n\")"
      ]
    }
  ]
}