{
  "nbformat": 4,
  "nbformat_minor": 0,
  "metadata": {
    "colab": {
      "provenance": [],
      "authorship_tag": "ABX9TyOJCiHVkMK4c6lu4+m/pwDt",
      "include_colab_link": true
    },
    "kernelspec": {
      "name": "python3",
      "display_name": "Python 3"
    },
    "language_info": {
      "name": "python"
    }
  },
  "cells": [
    {
      "cell_type": "markdown",
      "metadata": {
        "id": "view-in-github",
        "colab_type": "text"
      },
      "source": [
        "<a href=\"https://colab.research.google.com/github/TeeCook8/Taira/blob/main/TCHomework6.ipynb\" target=\"_parent\"><img src=\"https://colab.research.google.com/assets/colab-badge.svg\" alt=\"Open In Colab\"/></a>"
      ]
    },
    {
      "cell_type": "code",
      "execution_count": null,
      "metadata": {
        "id": "YS5wtBL_JauZ"
      },
      "outputs": [],
      "source": [
        "import string\n",
        "\n",
        "from collections import Counter\n",
        "\n",
        "import matplotlib.pyplot as plt\n",
        "from wordcloud import WordCLoud\n",
        "\n",
        "#reading the file\n",
        "with open ('hamlet.txt') as f:\n",
        "  lines= [line.rstrip() for line in f]\n",
        "\n",
        "  #punctuation removal\n",
        "  s= [sent.translate(str.maketrans(' ', ' ', string.punctuation)).split() for sent in lines if sent !='']\n",
        "  words = [sent for sentences in s for sent in sentences]\n",
        "\n",
        "  #collect words\n",
        "  words[:5]\n",
        "\n",
        "#frequency of item\n",
        "word_freq = Counter(words)\n",
        "top_word_freq = word_freq.most_commons(20)\n",
        "\n",
        "top_words = [word [0] for word in top_word_freq]\n",
        "freq = [word[1] for word in top_word_freq]\n",
        "\n",
        "#max freq in color red\n",
        "bar_plot= plt.bar(top_words, freq)\n",
        "\n",
        "plt.xticks(rotation = 45);"
      ]
    },
    {
      "cell_type": "code",
      "source": [
        "comment_words = ' '\n",
        "for token in words:\n",
        "  comment_words += \"\".join(tokens)+ \" \"\n",
        "\n",
        "  word_cloud = WordCloud (collocations = False, background_color = 'white').generate(comment_words)\n",
        "\n",
        "                          #Display the Word Cloud\n",
        "                          plt.imshow(word_cloud, interpolation='bilinear')\n",
        "                          plt.axis (\"off\")\n",
        "                          plt.show ()"
      ],
      "metadata": {
        "id": "S5ztpODLMVQr"
      },
      "execution_count": null,
      "outputs": []
    }
  ]
}